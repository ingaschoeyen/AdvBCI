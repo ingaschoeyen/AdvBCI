{
 "cells": [
  {
   "cell_type": "markdown",
   "metadata": {},
   "source": [
    "# AdvBCI Assignment 2 - LDA with spatial smoothing"
   ]
  },
  {
   "cell_type": "markdown",
   "metadata": {},
   "source": [
    "Group 1"
   ]
  },
  {
   "cell_type": "code",
   "execution_count": null,
   "metadata": {},
   "outputs": [],
   "source": [
    "import numpy as np\n",
    "import matplotlib.pyplot as plt\n",
    "\n",
    "\n",
    "np.random.seed(0)"
   ]
  },
  {
   "cell_type": "code",
   "execution_count": null,
   "metadata": {},
   "outputs": [],
   "source": [
    "# create random target cov matrix\n",
    "cov_tar = np.random.rand(200, 200)\n",
    "\n",
    "# make it symmetric\n",
    "cov_tar = (cov_tar + cov_tar.T) / 2\n",
    "\n",
    "# sample different Ns from it\n",
    "Ns = [50,100,200,500]\n",
    "\n",
    "samples = []\n",
    "for n in Ns:\n",
    "    samples.append(np.random.multivariate_normal(np.zeros(200), cov_tar, n))\n",
    "    \n"
   ]
  }
 ],
 "metadata": {
  "language_info": {
   "name": "python"
  }
 },
 "nbformat": 4,
 "nbformat_minor": 2
}
