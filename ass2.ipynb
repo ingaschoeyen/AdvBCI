{
 "cells": [
  {
   "cell_type": "markdown",
   "metadata": {},
   "source": [
    "# AdvBCI Assignment 2 - LDA with spatial smoothing"
   ]
  },
  {
   "cell_type": "code",
   "execution_count": null,
   "metadata": {},
   "outputs": [],
   "source": [
    "import numpy as np\n",
    "import matplotlib.pyplot as plt\n",
    "\n",
    "\n",
    "np.random.seed(0)"
   ]
  },
  {
   "cell_type": "code",
   "execution_count": null,
   "metadata": {},
   "outputs": [],
   "source": [
    "# create random matrix\n",
    "matrix = np.random.randn(200, 200)\n",
    "\n",
    "# compute covariance matrix\n",
    "cov = np.cov(matrix.T)\n",
    "\n",
    "\n",
    "# compute ground truth eigenvalues\n",
    "gt_eigvals = np.linalg.eigvalsh(cov)\n",
    "\n",
    "# sample different Ns from it\n",
    "Ns = [50,100,200,500]\n",
    "\n",
    "plt.figure()\n",
    "plt.plot(gt_eigvals[::-1], label='Ground truth')\n",
    "for n in Ns:\n",
    "    samples = np.random.multivariate_normal(np.zeros(200), cov, n)\n",
    "    # compute eigenvalues from samples\n",
    "    eigvals = np.linalg.eigvalsh(np.cov(samples.T))\n",
    "    # plot them\n",
    "    plt.plot(eigvals[::-1], label='N={}'.format(n))\n",
    "plt.legend()\n",
    "plt.grid()\n",
    "plt.xlabel('Eigenvalue index')\n",
    "plt.ylabel('Eigenvalue')\n"
   ]
  }
 ],
 "metadata": {
  "kernelspec": {
   "display_name": "base",
   "language": "python",
   "name": "python3"
  },
  "language_info": {
   "codemirror_mode": {
    "name": "ipython",
    "version": 3
   },
   "file_extension": ".py",
   "mimetype": "text/x-python",
   "name": "python",
   "nbconvert_exporter": "python",
   "pygments_lexer": "ipython3",
   "version": "3.10.6"
  }
 },
 "nbformat": 4,
 "nbformat_minor": 2
}
